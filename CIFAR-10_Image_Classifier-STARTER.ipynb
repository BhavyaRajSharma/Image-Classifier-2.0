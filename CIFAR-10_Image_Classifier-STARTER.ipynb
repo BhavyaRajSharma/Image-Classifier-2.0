{
 "cells": [
  {
   "cell_type": "markdown",
   "metadata": {},
   "source": [
    "# Introduction\n",
    "\n",
    "In this project, you will build a neural network of your own design to evaluate the CIFAR-10 dataset.\n",
    "\n",
    "To meet the requirements for this project, you will need to achieve an accuracy greater than 45%. \n",
    "If you want to beat Detectocorp's algorithm, you'll need to achieve an accuracy greater than 70%. \n",
    "(Beating Detectocorp's algorithm is not a requirement for passing this project, but you're encouraged to try!)\n",
    "\n",
    "Some of the benchmark results on CIFAR-10 include:\n",
    "\n",
    "78.9% Accuracy | [Deep Belief Networks; Krizhevsky, 2010](https://www.cs.toronto.edu/~kriz/conv-cifar10-aug2010.pdf)\n",
    "\n",
    "90.6% Accuracy | [Maxout Networks; Goodfellow et al., 2013](https://arxiv.org/pdf/1302.4389.pdf)\n",
    "\n",
    "96.0% Accuracy | [Wide Residual Networks; Zagoruyko et al., 2016](https://arxiv.org/pdf/1605.07146.pdf)\n",
    "\n",
    "99.0% Accuracy | [GPipe; Huang et al., 2018](https://arxiv.org/pdf/1811.06965.pdf)\n",
    "\n",
    "98.5% Accuracy | [Rethinking Recurrent Neural Networks and other Improvements for ImageClassification; Nguyen et al., 2020](https://arxiv.org/pdf/2007.15161.pdf)\n",
    "\n",
    "Research with this dataset is ongoing. Notably, many of these networks are quite large and quite expensive to train. \n",
    "\n",
    "## Imports"
   ]
  },
  {
   "cell_type": "code",
   "execution_count": 1,
   "metadata": {},
   "outputs": [],
   "source": [
    "## This cell contains the essential imports you will need – DO NOT CHANGE THE CONTENTS! ##\n",
    "import torch\n",
    "import torch.nn as nn\n",
    "import torch.nn.functional as F\n",
    "import torch.optim as optim\n",
    "import torchvision\n",
    "import torchvision.transforms as transforms\n",
    "import matplotlib.pyplot as plt\n",
    "import numpy as np"
   ]
  },
  {
   "cell_type": "markdown",
   "metadata": {},
   "source": [
    "## Load the Dataset\n",
    "\n",
    "Specify your transforms as a list first.\n",
    "The transforms module is already loaded as `transforms`.\n",
    "\n",
    "CIFAR-10 is fortunately included in the torchvision module.\n",
    "Then, you can create your dataset using the `CIFAR10` object from `torchvision.datasets` ([the documentation is available here](https://pytorch.org/vision/stable/generated/torchvision.datasets.CIFAR10.html)).\n",
    "Make sure to specify `download=True`! \n",
    "\n",
    "Once your dataset is created, you'll also need to define a `DataLoader` from the `torch.utils.data` module for both the train and the test set."
   ]
  },
  {
   "cell_type": "code",
   "execution_count": 2,
   "metadata": {},
   "outputs": [
    {
     "name": "stdout",
     "output_type": "stream",
     "text": [
      "Files already downloaded and verified\n",
      "Files already downloaded and verified\n"
     ]
    }
   ],
   "source": [
    "data_dir = 'project_data/CIFAR10_data'\n",
    "device = torch.device(\"cuda\" if torch.cuda.is_available() else \"cpu\")\n",
    "\n",
    "# Define transforms\n",
    "transform = transforms.Compose([\n",
    "    transforms.Grayscale(num_output_channels=3),\n",
    "    transforms.ToTensor(),\n",
    "    transforms.Normalize((0.5, 0.5, 0.5), (0.5, 0.5, 0.5))])\n",
    "\n",
    "\n",
    "# Create training set and define training dataloader\n",
    "trainset = torchvision.datasets.CIFAR10(data_dir+'/train/', download=True, train=True, transform=transform)\n",
    "trainloader = torch.utils.data.DataLoader(trainset, batch_size=64, shuffle=True)\n",
    "\n",
    "\n",
    "# Create test set and define test dataloader\n",
    "testset = torchvision.datasets.CIFAR10(data_dir+'/test/', download=True, train=False, transform=transform)\n",
    "testloader = torch.utils.data.DataLoader(testset, batch_size=64, shuffle=True)\n",
    "\n",
    "# The 10 classes in the dataset\n",
    "classes = ('plane', 'car', 'bird', 'cat', 'deer', 'dog', 'frog', 'horse', 'ship', 'truck')"
   ]
  },
  {
   "cell_type": "markdown",
   "metadata": {},
   "source": [
    "## Explore the Dataset\n",
    "Using matplotlib, numpy, and torch, explore the dimensions of your data.\n",
    "\n",
    "You can view images using the `show5` function defined below – it takes a data loader as an argument.\n",
    "Remember that normalized images will look really weird to you! You may want to try changing your transforms to view images.\n",
    "Typically using no transforms other than `toTensor()` works well for viewing – but not as well for training your network.\n",
    "If `show5` doesn't work, go back and check your code for creating your data loaders and your training/test sets."
   ]
  },
  {
   "cell_type": "code",
   "execution_count": 3,
   "metadata": {},
   "outputs": [],
   "source": [
    "def show5(img_loader):\n",
    "    dataiter = iter(img_loader)\n",
    "    \n",
    "    batch = next(dataiter)\n",
    "    labels = batch[1][0:5]\n",
    "    images = batch[0][0:5]\n",
    "    for i in range(5):\n",
    "        print(classes[labels[i].to(device)])\n",
    "    \n",
    "        image = images[i].numpy()\n",
    "        plt.imshow(np.rot90(image.T, k=3))\n",
    "        plt.show()"
   ]
  },
  {
   "cell_type": "code",
   "execution_count": 4,
   "metadata": {},
   "outputs": [
    {
     "name": "stdout",
     "output_type": "stream",
     "text": [
      "<class 'torch.Tensor'>\n",
      "torch.Size([64, 3, 32, 32])\n",
      "<class 'torch.Tensor'>\n",
      "torch.Size([64, 3072])\n",
      "<class 'torch.Tensor'>\n",
      "torch.Size([64])\n"
     ]
    }
   ],
   "source": [
    "# Explore data\n",
    "# show5(trainloader)\n",
    "# show5(testloader)\n",
    "\n",
    "dataiter = iter(trainloader)    \n",
    "images,x = next(dataiter)\n",
    "images1 = images.view(images.shape[0], -1)\n",
    "print(type(images))\n",
    "print(images.shape)\n",
    "print(type(images1))\n",
    "print(images1.shape)\n",
    "print(type(x))\n",
    "print(x.shape)\n"
   ]
  },
  {
   "cell_type": "markdown",
   "metadata": {},
   "source": [
    "## Build your Neural Network\n",
    "Using the layers in `torch.nn` (which has been imported as `nn`) and the `torch.nn.functional` module (imported as `F`), construct a neural network based on the parameters of the dataset. \n",
    "Feel free to construct a model of any architecture – feedforward, convolutional, or even something more advanced!"
   ]
  },
  {
   "cell_type": "code",
   "execution_count": 5,
   "metadata": {},
   "outputs": [],
   "source": [
    "class Classifier(nn.Module):\n",
    "    def __init__(self):\n",
    "        super().__init__()\n",
    "        self.conv1 = nn.Conv2d(3, 6, 5)\n",
    "        self.pool = nn.MaxPool2d(2, 2)\n",
    "        self.conv2 = nn.Conv2d(6, 16, 5)\n",
    "        self.fc1 = nn.Linear(16 * 5 * 5, 120)\n",
    "        self.fc2 = nn.Linear(120, 84)\n",
    "        self.fc3 = nn.Linear(84, 10)\n",
    "        \n",
    "        # Dropout module with 0.2 drop probability\n",
    "        self.dropout = nn.Dropout(p=0.2)\n",
    "        \n",
    "    def forward(self, x):\n",
    "        x = self.pool(F.relu(self.conv1(x)))\n",
    "        x = self.pool(F.relu(self.conv2(x)))\n",
    "        x = x.view(x.shape[0], -1) # flatten all dimensions except batch\n",
    "        x = F.relu(self.fc1(x))\n",
    "        x = F.relu(self.fc2(x))\n",
    "        x = self.fc3(x)\n",
    "        return x"
   ]
  },
  {
   "cell_type": "markdown",
   "metadata": {},
   "source": [
    "Specify a loss function and an optimizer, and instantiate the model.\n",
    "\n",
    "If you use a less common loss function, please note why you chose that loss function in a comment."
   ]
  },
  {
   "cell_type": "code",
   "execution_count": 6,
   "metadata": {},
   "outputs": [],
   "source": [
    "model = Classifier()\n",
    "criterion = nn.CrossEntropyLoss()\n",
    "optimizer = optim.SGD(model.parameters(), lr=0.001, momentum=0.9)\n",
    "model.to(device);"
   ]
  },
  {
   "cell_type": "markdown",
   "metadata": {},
   "source": [
    "## Running your Neural Network\n",
    "Use whatever method you like to train your neural network, and ensure you record the average loss at each epoch. \n",
    "Don't forget to use `torch.device()` and the `.to()` method for both your model and your data if you are using GPU!\n",
    "\n",
    "If you want to print your loss during each epoch, you can use the `enumerate` function and print the loss after a set number of batches. 250 batches works well for most people!"
   ]
  },
  {
   "cell_type": "code",
   "execution_count": 7,
   "metadata": {},
   "outputs": [
    {
     "name": "stdout",
     "output_type": "stream",
     "text": [
      "[1,   250] loss: 0.288\n",
      "[1,   500] loss: 0.575\n",
      "[1,   750] loss: 0.862\n",
      "Epoch: 1/30..  Training Loss: 2.297..  Test Loss: 2.281..  Test Accuracy: 0.171\n",
      "[2,   250] loss: 0.282\n",
      "[2,   500] loss: 0.554\n",
      "[2,   750] loss: 0.820\n",
      "Epoch: 2/30..  Training Loss: 2.184..  Test Loss: 2.110..  Test Accuracy: 0.254\n",
      "[3,   250] loss: 0.262\n",
      "[3,   500] loss: 0.521\n",
      "[3,   750] loss: 0.777\n",
      "Epoch: 3/30..  Training Loss: 2.069..  Test Loss: 2.012..  Test Accuracy: 0.285\n",
      "[4,   250] loss: 0.249\n",
      "[4,   500] loss: 0.493\n",
      "[4,   750] loss: 0.734\n",
      "Epoch: 4/30..  Training Loss: 1.955..  Test Loss: 1.874..  Test Accuracy: 0.333\n",
      "[5,   250] loss: 0.233\n",
      "[5,   500] loss: 0.464\n",
      "[5,   750] loss: 0.690\n",
      "Epoch: 5/30..  Training Loss: 1.836..  Test Loss: 1.759..  Test Accuracy: 0.369\n",
      "[6,   250] loss: 0.219\n",
      "[6,   500] loss: 0.437\n",
      "[6,   750] loss: 0.649\n",
      "Epoch: 6/30..  Training Loss: 1.730..  Test Loss: 1.687..  Test Accuracy: 0.395\n",
      "[7,   250] loss: 0.209\n",
      "[7,   500] loss: 0.417\n",
      "[7,   750] loss: 0.621\n",
      "Epoch: 7/30..  Training Loss: 1.655..  Test Loss: 1.618..  Test Accuracy: 0.418\n",
      "[8,   250] loss: 0.201\n",
      "[8,   500] loss: 0.402\n",
      "[8,   750] loss: 0.602\n",
      "Epoch: 8/30..  Training Loss: 1.603..  Test Loss: 1.586..  Test Accuracy: 0.431\n",
      "[9,   250] loss: 0.197\n",
      "[9,   500] loss: 0.391\n",
      "[9,   750] loss: 0.584\n",
      "Epoch: 9/30..  Training Loss: 1.557..  Test Loss: 1.528..  Test Accuracy: 0.458\n",
      "[10,   250] loss: 0.191\n",
      "[10,   500] loss: 0.380\n",
      "[10,   750] loss: 0.569\n",
      "Epoch: 10/30..  Training Loss: 1.516..  Test Loss: 1.476..  Test Accuracy: 0.474\n",
      "[11,   250] loss: 0.186\n",
      "[11,   500] loss: 0.371\n",
      "[11,   750] loss: 0.554\n",
      "Epoch: 11/30..  Training Loss: 1.477..  Test Loss: 1.469..  Test Accuracy: 0.476\n",
      "[12,   250] loss: 0.180\n",
      "[12,   500] loss: 0.362\n",
      "[12,   750] loss: 0.541\n",
      "Epoch: 12/30..  Training Loss: 1.442..  Test Loss: 1.408..  Test Accuracy: 0.503\n",
      "[13,   250] loss: 0.177\n",
      "[13,   500] loss: 0.353\n",
      "[13,   750] loss: 0.529\n",
      "Epoch: 13/30..  Training Loss: 1.411..  Test Loss: 1.366..  Test Accuracy: 0.520\n",
      "[14,   250] loss: 0.173\n",
      "[14,   500] loss: 0.345\n",
      "[14,   750] loss: 0.517\n",
      "Epoch: 14/30..  Training Loss: 1.377..  Test Loss: 1.335..  Test Accuracy: 0.530\n",
      "[15,   250] loss: 0.168\n",
      "[15,   500] loss: 0.338\n",
      "[15,   750] loss: 0.507\n",
      "Epoch: 15/30..  Training Loss: 1.351..  Test Loss: 1.319..  Test Accuracy: 0.537\n",
      "[16,   250] loss: 0.167\n",
      "[16,   500] loss: 0.332\n",
      "[16,   750] loss: 0.496\n",
      "Epoch: 16/30..  Training Loss: 1.322..  Test Loss: 1.317..  Test Accuracy: 0.539\n",
      "[17,   250] loss: 0.162\n",
      "[17,   500] loss: 0.324\n",
      "[17,   750] loss: 0.485\n",
      "Epoch: 17/30..  Training Loss: 1.294..  Test Loss: 1.263..  Test Accuracy: 0.556\n",
      "[18,   250] loss: 0.159\n",
      "[18,   500] loss: 0.319\n",
      "[18,   750] loss: 0.477\n",
      "Epoch: 18/30..  Training Loss: 1.270..  Test Loss: 1.230..  Test Accuracy: 0.569\n",
      "[19,   250] loss: 0.156\n",
      "[19,   500] loss: 0.310\n",
      "[19,   750] loss: 0.467\n",
      "Epoch: 19/30..  Training Loss: 1.245..  Test Loss: 1.214..  Test Accuracy: 0.576\n",
      "[20,   250] loss: 0.153\n",
      "[20,   500] loss: 0.305\n",
      "[20,   750] loss: 0.459\n",
      "Epoch: 20/30..  Training Loss: 1.224..  Test Loss: 1.199..  Test Accuracy: 0.584\n",
      "[21,   250] loss: 0.148\n",
      "[21,   500] loss: 0.298\n",
      "[21,   750] loss: 0.450\n",
      "Epoch: 21/30..  Training Loss: 1.199..  Test Loss: 1.196..  Test Accuracy: 0.584\n",
      "[22,   250] loss: 0.147\n",
      "[22,   500] loss: 0.296\n",
      "[22,   750] loss: 0.442\n",
      "Epoch: 22/30..  Training Loss: 1.180..  Test Loss: 1.149..  Test Accuracy: 0.598\n",
      "[23,   250] loss: 0.143\n",
      "[23,   500] loss: 0.288\n",
      "[23,   750] loss: 0.433\n",
      "Epoch: 23/30..  Training Loss: 1.155..  Test Loss: 1.136..  Test Accuracy: 0.606\n",
      "[24,   250] loss: 0.143\n",
      "[24,   500] loss: 0.284\n",
      "[24,   750] loss: 0.426\n",
      "Epoch: 24/30..  Training Loss: 1.136..  Test Loss: 1.122..  Test Accuracy: 0.609\n",
      "[25,   250] loss: 0.139\n",
      "[25,   500] loss: 0.280\n",
      "[25,   750] loss: 0.419\n",
      "Epoch: 25/30..  Training Loss: 1.119..  Test Loss: 1.087..  Test Accuracy: 0.622\n",
      "[26,   250] loss: 0.136\n",
      "[26,   500] loss: 0.274\n",
      "[26,   750] loss: 0.411\n",
      "Epoch: 26/30..  Training Loss: 1.096..  Test Loss: 1.055..  Test Accuracy: 0.634\n",
      "[27,   250] loss: 0.135\n",
      "[27,   500] loss: 0.270\n",
      "[27,   750] loss: 0.405\n",
      "Epoch: 27/30..  Training Loss: 1.081..  Test Loss: 1.046..  Test Accuracy: 0.636\n",
      "[28,   250] loss: 0.133\n",
      "[28,   500] loss: 0.264\n",
      "[28,   750] loss: 0.398\n",
      "Epoch: 28/30..  Training Loss: 1.061..  Test Loss: 1.060..  Test Accuracy: 0.627\n",
      "[29,   250] loss: 0.130\n",
      "[29,   500] loss: 0.260\n",
      "[29,   750] loss: 0.391\n",
      "Epoch: 29/30..  Training Loss: 1.044..  Test Loss: 1.013..  Test Accuracy: 0.650\n",
      "[30,   250] loss: 0.128\n",
      "[30,   500] loss: 0.256\n",
      "[30,   750] loss: 0.384\n",
      "Epoch: 30/30..  Training Loss: 1.025..  Test Loss: 0.994..  Test Accuracy: 0.655\n",
      "Finished Training\n"
     ]
    }
   ],
   "source": [
    "train_losses, test_losses = [], []\n",
    "epochs=30\n",
    "for epoch in range(epochs):  # loop over the dataset multiple times\n",
    "\n",
    "    running_loss = 0.0\n",
    "    for i, data in enumerate(trainloader, 0):\n",
    "        # get the inputs; data is a list of [inputs, labels]\n",
    "        inputs, labels = data\n",
    "        inputs, labels = inputs.to(device), labels.to(device)\n",
    "\n",
    "        # zero the parameter gradients\n",
    "        optimizer.zero_grad()\n",
    "\n",
    "        # forward + backward + optimize\n",
    "        outputs = model(inputs)\n",
    "        loss = criterion(outputs, labels)\n",
    "        loss.backward()\n",
    "        optimizer.step()\n",
    "\n",
    "        # print statistics\n",
    "        running_loss += loss.item()\n",
    "        if i % 250 == 249:    # print every 250 mini-batches\n",
    "            print(f'[{epoch + 1}, {i + 1:5d}] loss: {running_loss / 2000:.3f}')\n",
    "            \n",
    "    else:\n",
    "        test_loss = 0\n",
    "        accuracy = 0\n",
    "        # Turn off gradients for validation, saves memory and computations\n",
    "        with torch.no_grad():\n",
    "            model.eval()\n",
    "            for inputs, labels in trainloader:\n",
    "                inputs, labels = inputs.to(device), labels.to(device)\n",
    "                \n",
    "                outputs = model(inputs)\n",
    "                test_loss += criterion(outputs, labels)\n",
    "                \n",
    "                ps = torch.exp(outputs)\n",
    "                top_p, top_class = ps.topk(1, dim=1)\n",
    "                equals = top_class == labels.view(*top_class.shape)\n",
    "                accuracy += torch.mean(equals.type(torch.FloatTensor))\n",
    "        \n",
    "        model.train()\n",
    "        \n",
    "        train_losses.append(running_loss/len(trainloader))\n",
    "        test_losses.append(test_loss/len(testloader))\n",
    "        \n",
    "        print(\"Epoch: {}/{}.. \".format(epoch+1, epochs),\n",
    "              \"Training Loss: {:.3f}.. \".format(running_loss/len(trainloader)),\n",
    "              \"Test Loss: {:.3f}.. \".format(test_loss/len(trainloader)),\n",
    "              \"Test Accuracy: {:.3f}\".format(accuracy/len(trainloader)))\n",
    "\n",
    "print('Finished Training')"
   ]
  },
  {
   "cell_type": "markdown",
   "metadata": {},
   "source": [
    "Plot the training loss (and validation loss/accuracy, if recorded)."
   ]
  },
  {
   "cell_type": "code",
   "execution_count": 8,
   "metadata": {},
   "outputs": [
    {
     "data": {
      "text/plain": [
       "<matplotlib.legend.Legend at 0x7f6b3138ffd0>"
      ]
     },
     "execution_count": 8,
     "metadata": {},
     "output_type": "execute_result"
    },
    {
     "data": {
      "image/png": "[encoded data removed]",
      "text/plain": [
       "<matplotlib.figure.Figure at 0x7f6b3b36ccc0>"
      ]
     },
     "metadata": {
      "needs_background": "light"
     },
     "output_type": "display_data"
    }
   ],
   "source": [
    "plt.plot(train_losses, label='Training loss')\n",
    "plt.plot(test_losses, label='Validation loss')\n",
    "plt.legend(frameon=False)"
   ]
  },
  {
   "cell_type": "markdown",
   "metadata": {},
   "source": [
    "## Testing your model\n",
    "Using the previously created `DataLoader` for the test set, compute the percentage of correct predictions using the highest probability prediction. \n",
    "\n",
    "If your accuracy is over 70%, great work! \n",
    "This is a hard task to exceed 70% on.\n",
    "\n",
    "If your accuracy is under 45%, you'll need to make improvements.\n",
    "Go back and check your model architecture, loss function, and optimizer to make sure they're appropriate for an image classification task."
   ]
  },
  {
   "cell_type": "code",
   "execution_count": 9,
   "metadata": {},
   "outputs": [
    {
     "name": "stdout",
     "output_type": "stream",
     "text": [
      "Accuracy of the network on the 10000 test images: 58 %\n"
     ]
    }
   ],
   "source": [
    "correct = 0\n",
    "total = 0\n",
    "# since we're not training, we don't need to calculate the gradients for our outputs\n",
    "with torch.no_grad():\n",
    "    for data in testloader:\n",
    "        images, labels = data\n",
    "        images, labels = images.to(device), labels.to(device)\n",
    "        # calculate outputs by running images through the network\n",
    "        outputs = model(images)\n",
    "        # the class with the highest energy is what we choose as prediction\n",
    "        _, predicted = torch.max(outputs.data, 1)\n",
    "        total += labels.size(0)\n",
    "        correct += (predicted == labels).sum().item()\n",
    "\n",
    "print(f'Accuracy of the network on the 10000 test images: {100 * correct // total} %')"
   ]
  },
  {
   "cell_type": "markdown",
   "metadata": {},
   "source": [
    "## Saving your model\n",
    "Using `torch.save`, save your model for future loading."
   ]
  },
  {
   "cell_type": "code",
   "execution_count": 10,
   "metadata": {},
   "outputs": [],
   "source": [
    "torch.save(model.state_dict(), 'checkpoint.pth')"
   ]
  },
  {
   "cell_type": "markdown",
   "metadata": {},
   "source": [
    "## Make a Recommendation\n",
    "\n",
    "Based on your evaluation, what is your recommendation on whether to build or buy? Explain your reasoning below.\n",
    "\n",
    "Some things to consider as you formulate your recommendation:\n",
    "* How does your model compare to Detectocorp's model?\n",
    "* How does it compare to the far more advanced solutions in the literature? \n",
    "* What did you do to get the accuracy you achieved? \n",
    "* Is it necessary to improve this accuracy? If so, what sort of work would be involved in improving it?"
   ]
  },
  {
   "cell_type": "markdown",
   "metadata": {},
   "source": [
    "\n",
    "\n",
    "Based on the evaluation, I would suggest to buy the model as \n",
    "1.) its accuracy is better than ours.\n",
    "2.) Detectocorp's model is on the standard as compare to other advanced solutions in the literature.\n",
    "3.) I tried processing image by converting tino 2d image and applying backpropogation and calculating CrossEntropyLoss\n",
    "4.) It is always better to improve a model, we can think of tuning hyperparamters.\n",
    "\n"
   ]
  },
  {
   "cell_type": "markdown",
   "metadata": {},
   "source": [
    "## Submit Your Project\n",
    "\n",
    "When you are finished editing the notebook and are ready to turn it in, simply click the **SUBMIT PROJECT** button in the lower right.\n",
    "\n",
    "Once you submit your project, we'll review your work and give you feedback if there's anything that you need to work on. If you'd like to see the exact points that your reviewer will check for when looking at your work, you can have a look over the project [rubric](https://review.udacity.com/#!/rubrics/3077/view)."
   ]
  },
  {
   "cell_type": "code",
   "execution_count": null,
   "metadata": {},
   "outputs": [],
   "source": []
  }
 ],
 "metadata": {
  "kernelspec": {
   "display_name": "Python 3",
   "language": "python",
   "name": "python3"
  },
  "language_info": {
   "codemirror_mode": {
    "name": "ipython",
    "version": 3
   },
   "file_extension": ".py",
   "mimetype": "text/x-python",
   "name": "python",
   "nbconvert_exporter": "python",
   "pygments_lexer": "ipython3",
   "version": "3.6.3"
  }
 },
 "nbformat": 4,
 "nbformat_minor": 4
}
